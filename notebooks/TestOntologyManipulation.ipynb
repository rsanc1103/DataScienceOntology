{
 "cells": [
  {
   "cell_type": "code",
   "execution_count": 1,
   "metadata": {},
   "outputs": [
    {
     "name": "stderr",
     "output_type": "stream",
     "text": [
      "\n",
      "Warning: SQLite3 version 3.40.0 and 3.41.2 have huge performance regressions; please install version 3.41.1 or 3.42!\n",
      "\n"
     ]
    }
   ],
   "source": [
    "from owlready2 import *\n",
    "import pandas as pd\n",
    "import numpy as np"
   ]
  },
  {
   "cell_type": "code",
   "execution_count": null,
   "metadata": {},
   "outputs": [],
   "source": [
    "# Read CSV file into a Pandas DataFrame\n",
    "ps4_games = pd.read_csv('playstation_4_games.csv')\n",
    "ps4_games.columns"
   ]
  },
  {
   "cell_type": "code",
   "execution_count": null,
   "metadata": {},
   "outputs": [],
   "source": [
    "# Read CSV file into a Pandas DataFrame\n",
    "games_sales = pd.read_csv('game_sales_data.csv')\n",
    "games_sales.columns"
   ]
  },
  {
   "cell_type": "code",
   "execution_count": null,
   "metadata": {},
   "outputs": [],
   "source": [
    "games_twitch = pd.read_csv('Twitch_game_data.csv')\n",
    "games_twitch.columns"
   ]
  },
  {
   "cell_type": "code",
   "execution_count": 2,
   "metadata": {},
   "outputs": [],
   "source": [
    "onto = get_ontology(\"/Users/robertosanchez/Desktop/gaming_popularity.owl\").load()"
   ]
  },
  {
   "cell_type": "code",
   "execution_count": 3,
   "metadata": {},
   "outputs": [
    {
     "name": "stdout",
     "output_type": "stream",
     "text": [
      "[gaming_popularity.Game, gaming_popularity.Rank, gaming_popularity.Rating, gaming_popularity.salesRank]\n"
     ]
    }
   ],
   "source": [
    "print(list(onto.classes()))"
   ]
  },
  {
   "cell_type": "code",
   "execution_count": 4,
   "metadata": {},
   "outputs": [
    {
     "name": "stdout",
     "output_type": "stream",
     "text": [
      "[gaming_popularity.Game, gaming_popularity.CallOfDuty]\n",
      "[gaming_popularity.Rank, gaming_popularity.topFiveSteam, gaming_popularity.topSteams, gaming_popularity.salesRank, gaming_popularity.topFifteen]\n",
      "[gaming_popularity.Rating, gaming_popularity.M]\n"
     ]
    }
   ],
   "source": [
    "print(onto.search(is_a = onto.Game))\n",
    "print(onto.search(is_a = onto.Rank))\n",
    "print(onto.search(is_a = onto.Rating))"
   ]
  },
  {
   "cell_type": "code",
   "execution_count": 5,
   "metadata": {},
   "outputs": [
    {
     "name": "stdout",
     "output_type": "stream",
     "text": [
      "[gaming_popularity.Game, gaming_popularity.CallOfDuty, gaming_popularity.Testing_game]\n"
     ]
    }
   ],
   "source": [
    "new_game = onto.Game()\n",
    "new_game.name = \"Testing_game\"\n",
    "\n",
    "print(onto.search(is_a = onto.Game))"
   ]
  },
  {
   "cell_type": "code",
   "execution_count": 8,
   "metadata": {},
   "outputs": [
    {
     "name": "stdout",
     "output_type": "stream",
     "text": [
      "[gaming_popularity.Game, gaming_popularity.Rank, gaming_popularity.Rating, gaming_popularity.salesRank]\n",
      "[gaming_popularity.Rating, gaming_popularity.M]\n"
     ]
    }
   ],
   "source": [
    "print(list(onto.classes()))\n",
    "ratingM = onto.M\n",
    "print(onto.search(is_a = onto.Rating))"
   ]
  },
  {
   "cell_type": "code",
   "execution_count": 9,
   "metadata": {},
   "outputs": [],
   "source": [
    "class hasRating(owl.ObjectProperty):\n",
    "    pass\n"
   ]
  },
  {
   "cell_type": "code",
   "execution_count": 10,
   "metadata": {},
   "outputs": [
    {
     "name": "stdout",
     "output_type": "stream",
     "text": [
      "gaming_popularity.Testing_game\n"
     ]
    }
   ],
   "source": [
    "# data property assertion \n",
    "rating = onto.rating\n",
    "new_game.rating.append(\"M\")\n",
    "\n",
    "\n",
    "\n",
    "# object property assertion \n",
    "new_game.hasRating.append(ratingM)\n",
    "print(new_game)"
   ]
  },
  {
   "cell_type": "code",
   "execution_count": null,
   "metadata": {},
   "outputs": [],
   "source": [
    "gameNames = set(ps4_games['GameName'].values)\n",
    "gamesList = np.array(list(gameNames))\n",
    "\n",
    "for g in gamesList[:50]:\n",
    "    gameName = g.replace(\" \", \"_\")\n",
    "    g = gameName\n",
    "    print(g)\n",
    "    # new_game = onto.Game()\n",
    "    # new_game.name = g"
   ]
  },
  {
   "cell_type": "markdown",
   "metadata": {},
   "source": [
    "### save as new ontology"
   ]
  },
  {
   "cell_type": "code",
   "execution_count": null,
   "metadata": {},
   "outputs": [],
   "source": [
    "# onto.save(file=\"/Users/robertosanchez/Desktop/gaming_popularityTesing.owl\", format=\"rdfxml\")"
   ]
  },
  {
   "cell_type": "code",
   "execution_count": null,
   "metadata": {},
   "outputs": [],
   "source": [
    "row = games_sales[games_sales['Name'] == 'South Park: The Stick of Truth']\n",
    "row"
   ]
  },
  {
   "cell_type": "code",
   "execution_count": null,
   "metadata": {},
   "outputs": [],
   "source": [
    "row = ps4_games[ps4_games['GameName'] == 'South Park: The Stick of Truth']\n",
    "row"
   ]
  },
  {
   "cell_type": "code",
   "execution_count": null,
   "metadata": {},
   "outputs": [],
   "source": [
    "row = games_twitch[games_twitch['Game'] == 'South Park: The Stick of Truth']\n",
    "row"
   ]
  },
  {
   "cell_type": "code",
   "execution_count": 2,
   "metadata": {},
   "outputs": [],
   "source": [
    "import ipywidgets as widgets\n",
    "from IPython.display import display\n",
    "\n",
    "# Create a text box widget\n",
    "text_box = widgets.Text(description='Enter your name:')\n",
    "\n",
    "# Define a callback function to handle the text box value change\n",
    "def on_text_box_change(change):\n",
    "    print(\"You entered:\", change['new'])\n"
   ]
  },
  {
   "cell_type": "code",
   "execution_count": null,
   "metadata": {},
   "outputs": [],
   "source": []
  }
 ],
 "metadata": {
  "kernelspec": {
   "display_name": "Python 3 (ipykernel)",
   "language": "python",
   "name": "python3"
  },
  "language_info": {
   "codemirror_mode": {
    "name": "ipython",
    "version": 3
   },
   "file_extension": ".py",
   "mimetype": "text/x-python",
   "name": "python",
   "nbconvert_exporter": "python",
   "pygments_lexer": "ipython3",
   "version": "3.9.13"
  }
 },
 "nbformat": 4,
 "nbformat_minor": 2
}
