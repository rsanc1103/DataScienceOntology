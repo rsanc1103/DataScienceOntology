{
 "cells": [
  {
   "cell_type": "code",
   "execution_count": 1,
   "metadata": {},
   "outputs": [
    {
     "name": "stderr",
     "output_type": "stream",
     "text": [
      "\n",
      "Warning: SQLite3 version 3.40.0 and 3.41.2 have huge performance regressions; please install version 3.41.1 or 3.42!\n",
      "\n"
     ]
    }
   ],
   "source": [
    "from owlready2 import *\n",
    "import pandas as pd\n",
    "import numpy as np"
   ]
  },
  {
   "cell_type": "code",
   "execution_count": 8,
   "metadata": {},
   "outputs": [
    {
     "data": {
      "text/plain": [
       "Index(['ID', 'GamePSID', 'GameName', 'Publisher', 'ReleaseYear', 'ReleaseDate',\n",
       "       'Developer', 'Genre', 'Features', 'Size', 'Medium', 'Hardware',\n",
       "       'CompletionTime(Hours)', 'is_Digital_game', 'is_Physical_game',\n",
       "       'OfficialWebsite'],\n",
       "      dtype='object')"
      ]
     },
     "execution_count": 8,
     "metadata": {},
     "output_type": "execute_result"
    }
   ],
   "source": [
    "# Read CSV file into a Pandas DataFrame\n",
    "ps4_games = pd.read_csv('/Users/robertosanchez/Documents/GitHub/DataScienceOntology/datasets/playstation_4_games.csv')\n",
    "ps4_games.columns"
   ]
  },
  {
   "cell_type": "code",
   "execution_count": null,
   "metadata": {},
   "outputs": [],
   "source": [
    "# Read CSV file into a Pandas DataFrame\n",
    "games_sales = pd.read_csv('game_sales_data.csv')\n",
    "games_sales.columns"
   ]
  },
  {
   "cell_type": "code",
   "execution_count": null,
   "metadata": {},
   "outputs": [],
   "source": [
    "games_twitch = pd.read_csv('Twitch_game_data.csv')\n",
    "games_twitch.columns"
   ]
  },
  {
   "cell_type": "code",
   "execution_count": null,
   "metadata": {},
   "outputs": [],
   "source": [
    "onto = get_ontology(\"/Users/robertosanchez/Desktop/gaming_popularity.owl\").load()"
   ]
  },
  {
   "cell_type": "code",
   "execution_count": null,
   "metadata": {},
   "outputs": [
    {
     "name": "stdout",
     "output_type": "stream",
     "text": [
      "[gaming_popularity.Game, gaming_popularity.Rank, gaming_popularity.Rating, gaming_popularity.salesRank]\n"
     ]
    }
   ],
   "source": [
    "print(list(onto.classes()))"
   ]
  },
  {
   "cell_type": "code",
   "execution_count": null,
   "metadata": {},
   "outputs": [
    {
     "name": "stdout",
     "output_type": "stream",
     "text": [
      "[gaming_popularity.Game, gaming_popularity.CallOfDuty]\n",
      "[gaming_popularity.Rank, gaming_popularity.topFiveSteam, gaming_popularity.topSteams, gaming_popularity.salesRank, gaming_popularity.topFifteen]\n",
      "[gaming_popularity.Rating, gaming_popularity.M]\n"
     ]
    }
   ],
   "source": [
    "print(onto.search(is_a = onto.Game))\n",
    "print(onto.search(is_a = onto.Rank))\n",
    "print(onto.search(is_a = onto.Rating))"
   ]
  },
  {
   "cell_type": "code",
   "execution_count": null,
   "metadata": {},
   "outputs": [
    {
     "name": "stdout",
     "output_type": "stream",
     "text": [
      "[gaming_popularity.Game, gaming_popularity.CallOfDuty, gaming_popularity.Testing_game]\n"
     ]
    }
   ],
   "source": [
    "new_game = onto.Game()\n",
    "new_game.name = \"Testing_game\"\n",
    "\n",
    "print(onto.search(is_a = onto.Game))"
   ]
  },
  {
   "cell_type": "code",
   "execution_count": null,
   "metadata": {},
   "outputs": [
    {
     "name": "stdout",
     "output_type": "stream",
     "text": [
      "[gaming_popularity.Game, gaming_popularity.Rank, gaming_popularity.Rating, gaming_popularity.salesRank]\n",
      "[gaming_popularity.Rating, gaming_popularity.M]\n"
     ]
    }
   ],
   "source": [
    "print(list(onto.classes()))\n",
    "ratingM = onto.M\n",
    "print(onto.search(is_a = onto.Rating))"
   ]
  },
  {
   "cell_type": "code",
   "execution_count": null,
   "metadata": {},
   "outputs": [],
   "source": [
    "class hasRating(owl.ObjectProperty):\n",
    "    pass\n"
   ]
  },
  {
   "cell_type": "code",
   "execution_count": null,
   "metadata": {},
   "outputs": [
    {
     "name": "stdout",
     "output_type": "stream",
     "text": [
      "gaming_popularity.Testing_game\n"
     ]
    }
   ],
   "source": [
    "# data property assertion \n",
    "rating = onto.rating\n",
    "new_game.rating.append(\"M\")\n",
    "\n",
    "\n",
    "\n",
    "# object property assertion \n",
    "new_game.hasRating.append(ratingM)\n",
    "print(new_game)"
   ]
  },
  {
   "cell_type": "code",
   "execution_count": null,
   "metadata": {},
   "outputs": [],
   "source": [
    "gameNames = set(ps4_games['GameName'].values)\n",
    "gamesList = np.array(list(gameNames))\n",
    "\n",
    "for g in gamesList[:50]:\n",
    "    gameName = g.replace(\" \", \"_\")\n",
    "    g = gameName\n",
    "    print(g)\n",
    "    # new_game = onto.Game()\n",
    "    # new_game.name = g"
   ]
  },
  {
   "cell_type": "markdown",
   "metadata": {},
   "source": [
    "### save as new ontology"
   ]
  },
  {
   "cell_type": "code",
   "execution_count": null,
   "metadata": {},
   "outputs": [],
   "source": [
    "# onto.save(file=\"/Users/robertosanchez/Desktop/gaming_popularityTesing.owl\", format=\"rdfxml\")"
   ]
  },
  {
   "cell_type": "code",
   "execution_count": null,
   "metadata": {},
   "outputs": [],
   "source": [
    "row = games_sales[games_sales['Name'] == 'South Park: The Stick of Truth']\n",
    "row"
   ]
  },
  {
   "cell_type": "code",
   "execution_count": null,
   "metadata": {},
   "outputs": [],
   "source": [
    "row = ps4_games[ps4_games['GameName'] == 'South Park: The Stick of Truth']\n",
    "row"
   ]
  },
  {
   "cell_type": "code",
   "execution_count": null,
   "metadata": {},
   "outputs": [],
   "source": [
    "row = games_twitch[games_twitch['Game'] == 'South Park: The Stick of Truth']\n",
    "row"
   ]
  },
  {
   "cell_type": "code",
   "execution_count": 6,
   "metadata": {},
   "outputs": [
    {
     "data": {
      "text/plain": [
       "Index(['title', 'console', 'alcohol_reference', 'animated_blood', 'blood',\n",
       "       'blood_and_gore', 'cartoon_violence', 'crude_humor', 'drug_reference',\n",
       "       'fantasy_violence', 'intense_violence', 'language', 'lyrics',\n",
       "       'mature_humor', 'mild_blood', 'mild_cartoon_violence',\n",
       "       'mild_fantasy_violence', 'mild_language', 'mild_lyrics',\n",
       "       'mild_suggestive_themes', 'mild_violence', 'no_descriptors', 'nudity',\n",
       "       'partial_nudity', 'sexual_content', 'sexual_themes',\n",
       "       'simulated_gambling', 'strong_janguage', 'strong_sexual_content',\n",
       "       'suggestive_themes', 'use_of_alcohol', 'use_of_drugs_and_alcohol',\n",
       "       'violence', 'esrb_rating'],\n",
       "      dtype='object')"
      ]
     },
     "execution_count": 6,
     "metadata": {},
     "output_type": "execute_result"
    }
   ],
   "source": [
    "# Read CSV file into a Pandas DataFrame\n",
    "games_ratings = pd.read_csv('/Users/robertosanchez/Documents/GitHub/DataScienceOntology/datasets/Video_games_esrb_rating.csv')\n",
    "games_ratings.columns"
   ]
  },
  {
   "cell_type": "code",
   "execution_count": 7,
   "metadata": {},
   "outputs": [
    {
     "data": {
      "text/plain": [
       "array(['E', 'ET', 'M', 'T'], dtype=object)"
      ]
     },
     "execution_count": 7,
     "metadata": {},
     "output_type": "execute_result"
    }
   ],
   "source": [
    "ratings = games_ratings['esrb_rating'].unique()\n",
    "ratings"
   ]
  },
  {
   "cell_type": "code",
   "execution_count": 8,
   "metadata": {},
   "outputs": [
    {
     "data": {
      "text/plain": [
       "[gaming_popularity.Game,\n",
       " gaming_popularity.Rank,\n",
       " gaming_popularity.Rating,\n",
       " gaming_popularity.salesRank]"
      ]
     },
     "execution_count": 8,
     "metadata": {},
     "output_type": "execute_result"
    }
   ],
   "source": [
    "onto = get_ontology(\"/Users/robertosanchez/Desktop/gaming_popularity.owl\").load()\n",
    "list(onto.classes())"
   ]
  },
  {
   "cell_type": "code",
   "execution_count": 9,
   "metadata": {},
   "outputs": [
    {
     "name": "stdout",
     "output_type": "stream",
     "text": [
      "[gaming_popularity.Rating, gaming_popularity.M, gaming_popularity.E, gaming_popularity.ET, gaming_popularity.T]\n"
     ]
    }
   ],
   "source": [
    "print(onto.search(is_a = onto.Rating))"
   ]
  },
  {
   "cell_type": "code",
   "execution_count": 10,
   "metadata": {},
   "outputs": [
    {
     "name": "stdout",
     "output_type": "stream",
     "text": [
      "E\n",
      "ET\n",
      "M\n",
      "T\n",
      "[gaming_popularity.Rating, gaming_popularity.M, gaming_popularity.E, gaming_popularity.ET, gaming_popularity.T]\n"
     ]
    }
   ],
   "source": [
    "for i in ratings:\n",
    "    print(i)\n",
    "    # rating = onto.Rating()\n",
    "    # rating.name = i\n",
    "\n",
    "print(onto.search(is_a = onto.Rating))"
   ]
  },
  {
   "cell_type": "code",
   "execution_count": 11,
   "metadata": {},
   "outputs": [],
   "source": [
    "# onto.save(file=\"/Users/robertosanchez/Desktop/gaming_popularity.owl\", format=\"rdfxml\")"
   ]
  },
  {
   "cell_type": "code",
   "execution_count": 11,
   "metadata": {},
   "outputs": [
    {
     "data": {
      "text/plain": [
       "'South Park: The Stick of Truth'"
      ]
     },
     "execution_count": 11,
     "metadata": {},
     "output_type": "execute_result"
    }
   ],
   "source": [
    "# Read CSV file into a Pandas DataFrame\n",
    "games_ratings = pd.read_csv('/Users/robertosanchez/Documents/GitHub/DataScienceOntology/datasets/Video_games_esrb_rating.csv')\n",
    "\n",
    "games_ratings['title'][games_ratings['title'] == 'South Park: The Stick of Truth'].values[0]\n"
   ]
  },
  {
   "cell_type": "code",
   "execution_count": 12,
   "metadata": {},
   "outputs": [
    {
     "data": {
      "text/plain": [
       "[gaming_popularity.Rating, gaming_popularity.M, gaming_popularity.E, gaming_popularity.ET, gaming_popularity.T]"
      ]
     },
     "execution_count": 12,
     "metadata": {},
     "output_type": "execute_result"
    }
   ],
   "source": [
    "onto.search(is_a = onto.Rating)"
   ]
  },
  {
   "cell_type": "code",
   "execution_count": 13,
   "metadata": {},
   "outputs": [],
   "source": [
    "ratings = games_ratings['title'].values\n"
   ]
  },
  {
   "cell_type": "code",
   "execution_count": 34,
   "metadata": {},
   "outputs": [
    {
     "name": "stdout",
     "output_type": "stream",
     "text": [
      "M\n",
      "E\n",
      "ET\n",
      "T\n",
      "CallOfDuty\n",
      "[gaming_popularity.hasRating, gaming_popularity.hasSalesRank, gaming_popularity.isRanked]\n"
     ]
    }
   ],
   "source": [
    "with onto:\n",
    "  class Game(Thing):\n",
    "    pass\n",
    "\n",
    "  class Rating(Thing):\n",
    "    pass\n",
    "\n",
    "  class hasRating(ObjectProperty):\n",
    "    domain = [Game]\n",
    "    range = [str]\n",
    "\n",
    "\n",
    "\n",
    "  for i in list(Rating.instances()):\n",
    "    print(i.name)\n",
    "\n",
    "  # Query\n",
    "  # Game that hasRating value M\n",
    "  results = list(onto.search(type=Game, hasRating=onto.M))\n",
    "  \n",
    "  for r in results:\n",
    "    print(r.name)\n",
    "\n",
    "\n",
    "  print(list(onto.object_properties()))"
   ]
  },
  {
   "cell_type": "code",
   "execution_count": null,
   "metadata": {},
   "outputs": [],
   "source": []
  },
  {
   "cell_type": "code",
   "execution_count": null,
   "metadata": {},
   "outputs": [],
   "source": []
  }
 ],
 "metadata": {
  "kernelspec": {
   "display_name": "Python 3 (ipykernel)",
   "language": "python",
   "name": "python3"
  },
  "language_info": {
   "codemirror_mode": {
    "name": "ipython",
    "version": 3
   },
   "file_extension": ".py",
   "mimetype": "text/x-python",
   "name": "python",
   "nbconvert_exporter": "python",
   "pygments_lexer": "ipython3",
   "version": "3.9.13"
  }
 },
 "nbformat": 4,
 "nbformat_minor": 2
}
